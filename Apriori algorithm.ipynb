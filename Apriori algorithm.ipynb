{
 "cells": [
  {
   "cell_type": "markdown",
   "id": "4cde5b47-2449-4a93-9c68-c2a76b65295c",
   "metadata": {},
   "source": [
    "# What is Apriori algorithm in machine learning\n",
    " Apriori algorithm is a frequent pattern mining algorithm that is used in association rule learning it is widely used in market basket analysis\n",
    " to find association and relationship between items in large dataset of transaction \n"
   ]
  },
  {
   "cell_type": "markdown",
   "id": "ee24e310-489c-4dd6-9057-9c428a837691",
   "metadata": {},
   "source": [
    "# How It Works"
   ]
  },
  {
   "cell_type": "markdown",
   "id": "67eb83cc-e574-45da-865a-b75e9879d67f",
   "metadata": {},
   "source": [
    "1). It identify all frequent individual items in data set \n",
    "2). Than it extends than to larger items set as long as those items sets appear frequently enough in the data \n",
    "3). Than it use the frequent item set to generate association rules."
   ]
  },
  {
   "cell_type": "markdown",
   "id": "bb65e166-e978-4ea4-87dd-c2bbb10a9ac6",
   "metadata": {},
   "source": [
    "# Key Metrics"
   ]
  },
  {
   "cell_type": "code",
   "execution_count": null,
   "id": "6acb7b3d-7a31-468d-9a95-8dc351b459b8",
   "metadata": {},
   "outputs": [],
   "source": [
    "# #1). Support:- How frequently an item set appears in data set.It measures how popular the rule is.\n",
    "#   Formula ----> support ofa/b= transaction contaning of a uniion b divide by total transaction\n",
    "# 2). Confidence:- How often items in B appears in transaction that contain A\n",
    "#   Formula ----> support ofA/B= support of A union B divide by support of a \n",
    "# it measures the strength of implication how confidence means when A occurs B often occurs to \n",
    "# 3). Lift:- How much more often A and B occur together than expected if they were statically independent \n",
    "#   Formula ----> lift ofA/B= Confidence of A to B divide by support of B\n",
    "# if lift is greater than 1 than it will positive correlation.\n",
    "# if lift is equal to 1 it means there is no correlation.\n",
    "# if lift is less than 1 which means negative correlation. -->"
   ]
  },
  {
   "cell_type": "code",
   "execution_count": 6,
   "id": "3d6fd135-ac78-43d7-a1dd-eb9e02eb3989",
   "metadata": {},
   "outputs": [],
   "source": [
    "# Trans.Id  bought item\n",
    "# 1         milk  and bread\n",
    "# 2         milk bread and butter\n",
    "# 3         bread and butter\n",
    "# 4         milk and butter\n",
    "# 5         bread"
   ]
  },
  {
   "cell_type": "code",
   "execution_count": 8,
   "id": "912dcbe1-7823-4b9a-a7f5-28adddd91981",
   "metadata": {},
   "outputs": [],
   "source": [
    "# lets analysis association rule for milk to butter\n",
    "# 1). Support:- total transaction 2/5=0.4\n",
    "# 2). Confidence:- Among all transaction of milk how many also have butter.\n",
    "# transaction by milk=3\n",
    "# confidence of milk to butter 2/3=0.67\n",
    "# 3). Lift:- How much more likely someone is to buy butter if they buy milk compare to just buying butter by itself\n",
    "# support of butter is 3/5=0.6\n",
    "# lift of milk to butter is = confidence /by support of butter 0.67/0.6=\n",
    "# lift =1.11 meaning milk buyers are 11% more likely to buy butter than general customer"
   ]
  },
  {
   "cell_type": "code",
   "execution_count": null,
   "id": "13226c7f-dcbc-4d1d-8c01-0b64aed6ef5c",
   "metadata": {},
   "outputs": [],
   "source": []
  }
 ],
 "metadata": {
  "kernelspec": {
   "display_name": "Python 3 (ipykernel)",
   "language": "python",
   "name": "python3"
  },
  "language_info": {
   "codemirror_mode": {
    "name": "ipython",
    "version": 3
   },
   "file_extension": ".py",
   "mimetype": "text/x-python",
   "name": "python",
   "nbconvert_exporter": "python",
   "pygments_lexer": "ipython3",
   "version": "3.13.3"
  }
 },
 "nbformat": 4,
 "nbformat_minor": 5
}
