{
 "cells": [
  {
   "cell_type": "code",
   "execution_count": 2,
   "id": "36f0da49-70de-4a96-9b3a-772346eb31bd",
   "metadata": {},
   "outputs": [],
   "source": [
    "import pandas as pd\n",
    "import numpy as np"
   ]
  },
  {
   "cell_type": "code",
   "execution_count": 3,
   "id": "51f5f0d1-a4de-4960-abc7-9f0ae2d3b33a",
   "metadata": {},
   "outputs": [],
   "source": [
    "df=pd.read_csv(\"covid_toy.csv\")"
   ]
  },
  {
   "cell_type": "code",
   "execution_count": 4,
   "id": "24d5e20e-8009-409f-a31b-dd21a8e26ad1",
   "metadata": {},
   "outputs": [
    {
     "data": {
      "text/plain": [
       "age           0.0\n",
       "gender        0.0\n",
       "fever        10.0\n",
       "cough         0.0\n",
       "city          0.0\n",
       "has_covid     0.0\n",
       "dtype: float64"
      ]
     },
     "execution_count": 4,
     "metadata": {},
     "output_type": "execute_result"
    }
   ],
   "source": [
    "df.isnull().mean()*100"
   ]
  },
  {
   "cell_type": "code",
   "execution_count": 5,
   "id": "b26b7a47-8a66-4e2b-b9b4-9785fed18626",
   "metadata": {},
   "outputs": [],
   "source": [
    "cols=[var for var in df.columns if df[var].isnull().mean()<0.2 and df[var].isnull().mean()>0]"
   ]
  },
  {
   "cell_type": "code",
   "execution_count": 6,
   "id": "ba6feb6c-0c1f-4386-9b31-4a0466d43043",
   "metadata": {},
   "outputs": [
    {
     "data": {
      "text/plain": [
       "['fever']"
      ]
     },
     "execution_count": 6,
     "metadata": {},
     "output_type": "execute_result"
    }
   ],
   "source": [
    "cols"
   ]
  },
  {
   "cell_type": "code",
   "execution_count": 7,
   "id": "10cb51b3-52e6-4fd8-bcc0-4aace44d4bfc",
   "metadata": {},
   "outputs": [
    {
     "data": {
      "text/html": [
       "<div>\n",
       "<style scoped>\n",
       "    .dataframe tbody tr th:only-of-type {\n",
       "        vertical-align: middle;\n",
       "    }\n",
       "\n",
       "    .dataframe tbody tr th {\n",
       "        vertical-align: top;\n",
       "    }\n",
       "\n",
       "    .dataframe thead th {\n",
       "        text-align: right;\n",
       "    }\n",
       "</style>\n",
       "<table border=\"1\" class=\"dataframe\">\n",
       "  <thead>\n",
       "    <tr style=\"text-align: right;\">\n",
       "      <th></th>\n",
       "      <th>fever</th>\n",
       "    </tr>\n",
       "  </thead>\n",
       "  <tbody>\n",
       "    <tr>\n",
       "      <th>72</th>\n",
       "      <td>101.0</td>\n",
       "    </tr>\n",
       "    <tr>\n",
       "      <th>32</th>\n",
       "      <td>101.0</td>\n",
       "    </tr>\n",
       "    <tr>\n",
       "      <th>60</th>\n",
       "      <td>102.0</td>\n",
       "    </tr>\n",
       "    <tr>\n",
       "      <th>64</th>\n",
       "      <td>104.0</td>\n",
       "    </tr>\n",
       "    <tr>\n",
       "      <th>28</th>\n",
       "      <td>104.0</td>\n",
       "    </tr>\n",
       "    <tr>\n",
       "      <th>94</th>\n",
       "      <td>NaN</td>\n",
       "    </tr>\n",
       "    <tr>\n",
       "      <th>48</th>\n",
       "      <td>99.0</td>\n",
       "    </tr>\n",
       "    <tr>\n",
       "      <th>40</th>\n",
       "      <td>102.0</td>\n",
       "    </tr>\n",
       "    <tr>\n",
       "      <th>69</th>\n",
       "      <td>103.0</td>\n",
       "    </tr>\n",
       "    <tr>\n",
       "      <th>37</th>\n",
       "      <td>100.0</td>\n",
       "    </tr>\n",
       "  </tbody>\n",
       "</table>\n",
       "</div>"
      ],
      "text/plain": [
       "    fever\n",
       "72  101.0\n",
       "32  101.0\n",
       "60  102.0\n",
       "64  104.0\n",
       "28  104.0\n",
       "94    NaN\n",
       "48   99.0\n",
       "40  102.0\n",
       "69  103.0\n",
       "37  100.0"
      ]
     },
     "execution_count": 7,
     "metadata": {},
     "output_type": "execute_result"
    }
   ],
   "source": [
    "df[cols].sample(10)"
   ]
  },
  {
   "cell_type": "code",
   "execution_count": 8,
   "id": "8d7f2f69-f501-4504-853f-1acb3833a064",
   "metadata": {},
   "outputs": [
    {
     "data": {
      "text/plain": [
       "0.9"
      ]
     },
     "execution_count": 8,
     "metadata": {},
     "output_type": "execute_result"
    }
   ],
   "source": [
    "len(df[cols].dropna())/len(df)"
   ]
  },
  {
   "cell_type": "code",
   "execution_count": 9,
   "id": "d9102342-2525-4fcc-8f53-7d7add9554f5",
   "metadata": {},
   "outputs": [
    {
     "data": {
      "text/plain": [
       "((100, 6), (90, 1))"
      ]
     },
     "execution_count": 9,
     "metadata": {},
     "output_type": "execute_result"
    }
   ],
   "source": [
    "new_df=df[cols].dropna()\n",
    "df.shape,new_df.shape"
   ]
  },
  {
   "cell_type": "code",
   "execution_count": 10,
   "id": "8bc6b1a2-48e1-4658-b0a5-acdc0e41ddc8",
   "metadata": {},
   "outputs": [],
   "source": [
    "import matplotlib.pyplot as plt"
   ]
  },
  {
   "cell_type": "code",
   "execution_count": 11,
   "id": "b1f03906-36d6-43a5-9452-24d6d4e9db3c",
   "metadata": {},
   "outputs": [
    {
     "data": {
      "text/plain": [
       "<Axes: >"
      ]
     },
     "execution_count": 11,
     "metadata": {},
     "output_type": "execute_result"
    },
    {
     "data": {
      "image/png": "[encoded data removed]",
      "text/plain": [
       "<Figure size 640x480 with 1 Axes>"
      ]
     },
     "metadata": {},
     "output_type": "display_data"
    }
   ],
   "source": [
    "fig=plt.figure()\n",
    "ax=fig.add_subplot(111)\n",
    "df[\"fever\"].hist(bins=50,ax=ax,density=True,color=\"red\")\n",
    "new_df[\"fever\"].hist(bins=50,ax=ax,color='green', density=True, alpha=0.8)\n"
   ]
  },
  {
   "cell_type": "code",
   "execution_count": 12,
   "id": "a5903338-37fe-40ec-8a7c-2eb16e522c66",
   "metadata": {},
   "outputs": [
    {
     "data": {
      "text/html": [
       "<div>\n",
       "<style scoped>\n",
       "    .dataframe tbody tr th:only-of-type {\n",
       "        vertical-align: middle;\n",
       "    }\n",
       "\n",
       "    .dataframe tbody tr th {\n",
       "        vertical-align: top;\n",
       "    }\n",
       "\n",
       "    .dataframe thead th {\n",
       "        text-align: right;\n",
       "    }\n",
       "</style>\n",
       "<table border=\"1\" class=\"dataframe\">\n",
       "  <thead>\n",
       "    <tr style=\"text-align: right;\">\n",
       "      <th></th>\n",
       "      <th>original</th>\n",
       "      <th>cca</th>\n",
       "    </tr>\n",
       "    <tr>\n",
       "      <th>fever</th>\n",
       "      <th></th>\n",
       "      <th></th>\n",
       "    </tr>\n",
       "  </thead>\n",
       "  <tbody>\n",
       "    <tr>\n",
       "      <th>101.0</th>\n",
       "      <td>0.17</td>\n",
       "      <td>0.188889</td>\n",
       "    </tr>\n",
       "    <tr>\n",
       "      <th>98.0</th>\n",
       "      <td>0.17</td>\n",
       "      <td>0.188889</td>\n",
       "    </tr>\n",
       "    <tr>\n",
       "      <th>104.0</th>\n",
       "      <td>0.14</td>\n",
       "      <td>0.155556</td>\n",
       "    </tr>\n",
       "    <tr>\n",
       "      <th>100.0</th>\n",
       "      <td>0.13</td>\n",
       "      <td>0.144444</td>\n",
       "    </tr>\n",
       "    <tr>\n",
       "      <th>99.0</th>\n",
       "      <td>0.10</td>\n",
       "      <td>0.111111</td>\n",
       "    </tr>\n",
       "    <tr>\n",
       "      <th>102.0</th>\n",
       "      <td>0.10</td>\n",
       "      <td>0.111111</td>\n",
       "    </tr>\n",
       "    <tr>\n",
       "      <th>103.0</th>\n",
       "      <td>0.09</td>\n",
       "      <td>0.100000</td>\n",
       "    </tr>\n",
       "  </tbody>\n",
       "</table>\n",
       "</div>"
      ],
      "text/plain": [
       "       original       cca\n",
       "fever                    \n",
       "101.0      0.17  0.188889\n",
       "98.0       0.17  0.188889\n",
       "104.0      0.14  0.155556\n",
       "100.0      0.13  0.144444\n",
       "99.0       0.10  0.111111\n",
       "102.0      0.10  0.111111\n",
       "103.0      0.09  0.100000"
      ]
     },
     "execution_count": 12,
     "metadata": {},
     "output_type": "execute_result"
    }
   ],
   "source": [
    "temp = pd.concat([\n",
    "        # percentage of observations per category, original data\n",
    "        df['fever'].value_counts() / len(df),\n",
    "        \n",
    "        # percentage of observations per category, cca data\n",
    "        new_df['fever'].value_counts() / len(new_df)\n",
    "        ],\n",
    "        axis=1)\n",
    "        \n",
    "# add column names\n",
    "temp.columns = ['original', 'cca']      \n",
    "temp"
   ]
  },
  {
   "cell_type": "code",
   "execution_count": null,
   "id": "fdd5090d-d79b-4e64-8573-7cfdbcd1a2ea",
   "metadata": {},
   "outputs": [],
   "source": []
  },
  {
   "cell_type": "code",
   "execution_count": 13,
   "id": "685f1485-d793-44f6-9bae-243534dcb68f",
   "metadata": {},
   "outputs": [],
   "source": [
    "# Standardization -- > mean = , std = 1\n",
    "\n",
    "\n",
    "# Normalization ------ > min = 0 , max = 1\n",
    "# Encoding ---- >\n",
    "# (a). Label --- > 1-1 coolumn apply\n",
    "# (b). Ordinal --- > multiple columns apply , we can set our sub-category .\n",
    "# (c). OneHot --- > Column --- > sub-category --- > New_column\n",
    "# (d). get_dummies -- I-> Column --- > New_column + with_column_name\n",
    "\n",
    "# Function Transformer ----- > dataset --- > custom logic apply .\n",
    "\n",
    "# ColumnTransformer --- > way --- > (constant , 'approach_name' , 'column_name' )\n",
    "\n",
    "# Pipeline ----- > way --- > steps of process --- > output of first step will be input of second step .\n",
    "\n",
    "# CCA ---- >after missing data drop and befire missing data drop --- > if Architecture is overlap -- >\n",
    "# we can drop the missing data .\n",
    "\n",
    "# Outliers ---- > check --- > boxplot , handle --- > trimming , capping .\n",
    "\n"
   ]
  },
  {
   "cell_type": "code",
   "execution_count": null,
   "id": "0cb935a0-4c80-4940-a379-d267073688ae",
   "metadata": {},
   "outputs": [],
   "source": []
  }
 ],
 "metadata": {
  "kernelspec": {
   "display_name": "Python 3 (ipykernel)",
   "language": "python",
   "name": "python3"
  },
  "language_info": {
   "codemirror_mode": {
    "name": "ipython",
    "version": 3
   },
   "file_extension": ".py",
   "mimetype": "text/x-python",
   "name": "python",
   "nbconvert_exporter": "python",
   "pygments_lexer": "ipython3",
   "version": "3.13.3"
  }
 },
 "nbformat": 4,
 "nbformat_minor": 5
}
