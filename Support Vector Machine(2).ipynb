{
 "cells": [
  {
   "cell_type": "code",
   "execution_count": 8,
   "id": "3e6b47d0-4b6d-496a-9b64-38f89070c29b",
   "metadata": {},
   "outputs": [],
   "source": [
    "from sklearn import svm\n",
    "from sklearn.datasets import make_classification\n",
    "from sklearn.model_selection import train_test_split\n",
    "from sklearn.metrics import accuracy_score\n",
    "\n",
    "# Generate synthetic classification data\n",
    "X, y = make_classification(n_samples=100, n_features=2, n_informative=2,\n",
    "n_redundant=0, random_state=42)\n",
    "\n"
   ]
  },
  {
   "cell_type": "code",
   "execution_count": 9,
   "id": "26d9beb5-c49d-48f1-9cf2-7dbaad208cc6",
   "metadata": {},
   "outputs": [],
   "source": [
    "# Split the data into training and test sets\n",
    "X_train, X_test, y_train, y_test = train_test_split(X, y, test_size=0.2, random_state=42)\n",
    "\n"
   ]
  },
  {
   "cell_type": "code",
   "execution_count": 10,
   "id": "eb6ee475-f665-4eda-8de8-0f80527531d7",
   "metadata": {},
   "outputs": [
    {
     "name": "stdout",
     "output_type": "stream",
     "text": [
      "Linear Kernel Accuracy: 0.95\n"
     ]
    }
   ],
   "source": [
    "# Linear Kernel\n",
    "linear_svc = svm.SVC(kernel='linear')\n",
    "linear_svc.fit(X_train, y_train)\n",
    "linear_predictions = linear_svc.predict(X_test)\n",
    "linear_accuracy = accuracy_score(y_test, linear_predictions)\n",
    "print(\"Linear Kernel Accuracy:\", linear_accuracy)\n",
    "\n"
   ]
  },
  {
   "cell_type": "code",
   "execution_count": 11,
   "id": "e5061d09-dbb5-440c-a38b-6d2931e19428",
   "metadata": {},
   "outputs": [
    {
     "name": "stdout",
     "output_type": "stream",
     "text": [
      "Polynomial Kernel Accuracy: 0.9\n"
     ]
    }
   ],
   "source": [
    "# Polynomial Kernel\n",
    "poly_svc = svm.SVC(kernel='poly', degree=3) #degree = 3 == > x ** 0 + x ** 1 + x ** 2 == > 1 + x + x ** 2\n",
    "poly_svc.fit(X_train, y_train)\n",
    "poly_predictions = poly_svc.predict(X_test)\n",
    "poly_accuracy = accuracy_score(y_test, poly_predictions)\n",
    "print(\"Polynomial Kernel Accuracy:\", poly_accuracy)"
   ]
  },
  {
   "cell_type": "code",
   "execution_count": null,
   "id": "68911b45-63c1-4505-81fb-a7884100e8c2",
   "metadata": {},
   "outputs": [],
   "source": []
  },
  {
   "cell_type": "code",
   "execution_count": null,
   "id": "0669fbed-6b86-47c5-9d4b-4092ebbf7085",
   "metadata": {},
   "outputs": [],
   "source": []
  }
 ],
 "metadata": {
  "kernelspec": {
   "display_name": "Python 3 (ipykernel)",
   "language": "python",
   "name": "python3"
  },
  "language_info": {
   "codemirror_mode": {
    "name": "ipython",
    "version": 3
   },
   "file_extension": ".py",
   "mimetype": "text/x-python",
   "name": "python",
   "nbconvert_exporter": "python",
   "pygments_lexer": "ipython3",
   "version": "3.13.3"
  }
 },
 "nbformat": 4,
 "nbformat_minor": 5
}
