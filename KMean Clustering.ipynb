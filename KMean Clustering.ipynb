{
 "cells": [
  {
   "cell_type": "markdown",
   "id": "d6c00998-7d40-4dea-b7fd-3eea91827b38",
   "metadata": {},
   "source": [
    "# UnSupervised ML model ---- >"
   ]
  },
  {
   "cell_type": "code",
   "execution_count": null,
   "id": "ae111b4d-2123-465b-af4d-c18e31466f4e",
   "metadata": {},
   "outputs": [],
   "source": [
    "\n",
    "# In this model , we are working only with values or trained our model on only values not\n",
    "# column name .\n",
    "\n",
    " \n",
    "\n"
   ]
  },
  {
   "cell_type": "markdown",
   "id": "6099fcba-6913-4f5c-95ae-44b3b00e9d65",
   "metadata": {},
   "source": [
    "# (1). KMeans Clustering ---- >\n",
    "It is working on WCSS method . and it os working on Elbow method ."
   ]
  },
  {
   "cell_type": "code",
   "execution_count": 5,
   "id": "e7f676a5-ecd6-4f01-b7ba-4dc85f070683",
   "metadata": {},
   "outputs": [],
   "source": [
    "import pandas as pd\n",
    "import numpy as np"
   ]
  },
  {
   "cell_type": "code",
   "execution_count": 2,
   "id": "d18a8ff5-0931-468a-a3c0-8feda195451e",
   "metadata": {},
   "outputs": [],
   "source": [
    "df=pd.read_csv(\"mall.csv\")"
   ]
  },
  {
   "cell_type": "code",
   "execution_count": 3,
   "id": "5ab77e48-f46b-4273-b2e2-33db92b9bcc3",
   "metadata": {},
   "outputs": [
    {
     "data": {
      "text/html": [
       "<div>\n",
       "<style scoped>\n",
       "    .dataframe tbody tr th:only-of-type {\n",
       "        vertical-align: middle;\n",
       "    }\n",
       "\n",
       "    .dataframe tbody tr th {\n",
       "        vertical-align: top;\n",
       "    }\n",
       "\n",
       "    .dataframe thead th {\n",
       "        text-align: right;\n",
       "    }\n",
       "</style>\n",
       "<table border=\"1\" class=\"dataframe\">\n",
       "  <thead>\n",
       "    <tr style=\"text-align: right;\">\n",
       "      <th></th>\n",
       "      <th>CustomerID</th>\n",
       "      <th>Genre</th>\n",
       "      <th>Age</th>\n",
       "      <th>Annual Income (k$)</th>\n",
       "      <th>Spending Score (1-100)</th>\n",
       "    </tr>\n",
       "  </thead>\n",
       "  <tbody>\n",
       "    <tr>\n",
       "      <th>0</th>\n",
       "      <td>1</td>\n",
       "      <td>Male</td>\n",
       "      <td>19</td>\n",
       "      <td>15</td>\n",
       "      <td>39</td>\n",
       "    </tr>\n",
       "  </tbody>\n",
       "</table>\n",
       "</div>"
      ],
      "text/plain": [
       "   CustomerID Genre  Age  Annual Income (k$)  Spending Score (1-100)\n",
       "0           1  Male   19                  15                      39"
      ]
     },
     "execution_count": 3,
     "metadata": {},
     "output_type": "execute_result"
    }
   ],
   "source": [
    "df.head(1)"
   ]
  },
  {
   "cell_type": "code",
   "execution_count": 4,
   "id": "510538f5-70ba-4285-837c-e31c1ba8f42b",
   "metadata": {},
   "outputs": [
    {
     "data": {
      "text/plain": [
       "CustomerID                0\n",
       "Genre                     0\n",
       "Age                       0\n",
       "Annual Income (k$)        0\n",
       "Spending Score (1-100)    0\n",
       "dtype: int64"
      ]
     },
     "execution_count": 4,
     "metadata": {},
     "output_type": "execute_result"
    }
   ],
   "source": [
    "df.isnull().sum()"
   ]
  },
  {
   "cell_type": "code",
   "execution_count": 7,
   "id": "34355fd1-a1ba-4326-a87d-630f2d6e8009",
   "metadata": {},
   "outputs": [],
   "source": [
    "df=df.drop(columns=[\"CustomerID\",\"Genre\"])"
   ]
  },
  {
   "cell_type": "code",
   "execution_count": 8,
   "id": "70d120d2-363b-46a1-9cd6-7b32610337d5",
   "metadata": {},
   "outputs": [
    {
     "data": {
      "text/html": [
       "<div>\n",
       "<style scoped>\n",
       "    .dataframe tbody tr th:only-of-type {\n",
       "        vertical-align: middle;\n",
       "    }\n",
       "\n",
       "    .dataframe tbody tr th {\n",
       "        vertical-align: top;\n",
       "    }\n",
       "\n",
       "    .dataframe thead th {\n",
       "        text-align: right;\n",
       "    }\n",
       "</style>\n",
       "<table border=\"1\" class=\"dataframe\">\n",
       "  <thead>\n",
       "    <tr style=\"text-align: right;\">\n",
       "      <th></th>\n",
       "      <th>Age</th>\n",
       "      <th>Annual Income (k$)</th>\n",
       "      <th>Spending Score (1-100)</th>\n",
       "    </tr>\n",
       "  </thead>\n",
       "  <tbody>\n",
       "    <tr>\n",
       "      <th>0</th>\n",
       "      <td>19</td>\n",
       "      <td>15</td>\n",
       "      <td>39</td>\n",
       "    </tr>\n",
       "  </tbody>\n",
       "</table>\n",
       "</div>"
      ],
      "text/plain": [
       "   Age  Annual Income (k$)  Spending Score (1-100)\n",
       "0   19                  15                      39"
      ]
     },
     "execution_count": 8,
     "metadata": {},
     "output_type": "execute_result"
    }
   ],
   "source": [
    "df.head(1)"
   ]
  },
  {
   "cell_type": "code",
   "execution_count": 9,
   "id": "02dee478-c647-434f-9d0e-e2d6971fd5a0",
   "metadata": {},
   "outputs": [],
   "source": [
    "x=df.iloc[:,[0,1]].values"
   ]
  },
  {
   "cell_type": "code",
   "execution_count": 10,
   "id": "b14e20b9-c8bf-4156-ad61-0d6d32f5b9e0",
   "metadata": {},
   "outputs": [],
   "source": [
    "from sklearn.cluster import KMeans"
   ]
  },
  {
   "cell_type": "code",
   "execution_count": 11,
   "id": "9c4424e3-f2e2-4a89-9629-82dbc906c3f3",
   "metadata": {},
   "outputs": [],
   "source": [
    "import matplotlib.pyplot as plt"
   ]
  },
  {
   "cell_type": "code",
   "execution_count": 17,
   "id": "be928a62-1940-4a94-9a79-e0d6ea80e3dd",
   "metadata": {},
   "outputs": [
    {
     "data": {
      "image/png": "[encoded data removed]",
      "text/plain": [
       "<Figure size 640x480 with 1 Axes>"
      ]
     },
     "metadata": {},
     "output_type": "display_data"
    }
   ],
   "source": [
    "a=[]\n",
    "for i in range(1,11):\n",
    "    b=KMeans(n_clusters = i,init = \"k-means++\",random_state=42)\n",
    "    b.fit(x)\n",
    "    a.append(b.inertia_)\n",
    "plt.plot(range(1,11),a)\n",
    "plt.title(\"The Elobw MEthod graph\")\n",
    "plt.xlabel(\"Numbers of clusters(k)\")\n",
    "plt.ylabel(\"wcss_list\")\n",
    "plt.show()"
   ]
  },
  {
   "cell_type": "code",
   "execution_count": 15,
   "id": "75c87c70-bd01-4c1f-83d0-1ede19405a10",
   "metadata": {},
   "outputs": [],
   "source": [
    "# From the above plot, we can see the elbow point is at 4. So the\n",
    "# number of clusters here will be 4."
   ]
  },
  {
   "cell_type": "code",
   "execution_count": 16,
   "id": "b181ae2d-b18e-4223-bfe9-57b91205df7b",
   "metadata": {},
   "outputs": [],
   "source": [
    "b = KMeans(n_clusters=4, init='k-means++', random_state= 42)\n",
    "y_predict= b. fit_predict(x)"
   ]
  },
  {
   "cell_type": "code",
   "execution_count": null,
   "id": "efbea83b-45ef-4d7e-a4c1-14ac50b87ed6",
   "metadata": {},
   "outputs": [],
   "source": [
    "#visulaizing the clusters\n",
    "plt.scatter(x[y_predict == 0, 0], x[y_predict == 0, 1], s = 100, c = 'blue', label = 'Cluster 1')\n",
    "plt.scatter(x[y_predict == 1, 0], x[y_predict == 1, 1], s = 100, c = 'green', label = 'Cluster 2')\n",
    "plt.scatter(x[y_predict == 2, 0], x[y_predict == 2, 1], s = 100, c = 'red', label = 'Cluster 3') \n",
    "plt.scatter(x[y_predict == 3, 0], x[y_predict == 3, 1], s = 100, c = 'cyan', label = 'Cluster 4')\n",
    "\n",
    "plt.scatter(b.cluster_centers_[:, 0], b.cluster_centers_[ :, 1], s = 300, c = 'yellow',\n",
    "label = 'Centroid' )\n",
    "plt.title('Clusters of customers')\n",
    "plt.xlabel('Annual Income (k$)')\n",
    "plt.ylabel('Spending Score (1-100)')\n",
    "plt.legend()\n",
    "plt.show()"
   ]
  }
 ],
 "metadata": {
  "kernelspec": {
   "display_name": "Python 3 (ipykernel)",
   "language": "python",
   "name": "python3"
  },
  "language_info": {
   "codemirror_mode": {
    "name": "ipython",
    "version": 3
   },
   "file_extension": ".py",
   "mimetype": "text/x-python",
   "name": "python",
   "nbconvert_exporter": "python",
   "pygments_lexer": "ipython3",
   "version": "3.13.3"
  }
 },
 "nbformat": 4,
 "nbformat_minor": 5
}
