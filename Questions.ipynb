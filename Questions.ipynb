{
 "cells": [
  {
   "cell_type": "code",
   "execution_count": null,
   "id": "42e886bb-b4e8-4a78-b1b7-4955a12e888a",
   "metadata": {},
   "outputs": [],
   "source": [
    "# Q1)) Differnece between continuous and discrete in machine learing\n",
    "# Ans--> Discrete variables are numeric or categorical features that can only take specific, separate values. These are countable values, often integers or categories. For instance:\n",
    "\n",
    "# ->Number of students in a class\n",
    "\n",
    "# ->Categorical labels like {Red, Green, Blue}\n",
    "# ->Shoe sizes (e.g. 7, 7.5), where there's no possibility of 7.3\n",
    "# Discrete features are typically represented using probability mass functions (PMFs) in statistical modeling \n",
    "#  Continuous Variables\n",
    "# Definition:\n",
    "# These are variables that can take any value within a range. \n",
    "#They are typically measured and can have infinite possible values.\n",
    "\n",
    "# -->Examples:\n",
    "#1) Height (e.g., 165.3 cm)\n",
    "#2)Weight (e.g., 55.8 kg)\n",
    "#3)Temperature (e.g., 36.7°C)\n",
    "#4)Time (e.g., 12.45 seconds)\n",
    "#----->Use in ML:\n",
    "#Used in regression problems\n",
    "#Algorithms: Linear Regression, SVR, etc."
   ]
  },
  {
   "cell_type": "code",
   "execution_count": 3,
   "id": "de73b2a2-b67c-446f-a65c-ee77628f92c0",
   "metadata": {},
   "outputs": [],
   "source": [
    "# Q2) Difference overfitting and underfitting\n",
    "# -------- Overfitting -------\n",
    "# 1)The model learns too much from the training data, even the noise and errors.\n",
    "# 2)It performs very well on training data but poorly on new data.\n",
    "# 3)Problem: Too complex model.\n",
    "# 4)Example: A student memorizes answers but can’t solve new questions.\n",
    "# -----Overfitting = Too much learning → poor generalization----\n",
    "\n",
    "# ---- Underfitting--------\n",
    "# 1)The model learns too little from the training data.\n",
    "# 2)It performs poorly on both training and test data.\n",
    "# 3)Problem: Too simple model.\n",
    "# 4)Example: A student didn’t study enough and fails both old and new questions.\n",
    "# ------Underfitting = Too little learning → poor performance------"
   ]
  },
  {
   "cell_type": "code",
   "execution_count": 4,
   "id": "0f684bc8-933a-46e4-84e4-cb65a381b26e",
   "metadata": {},
   "outputs": [],
   "source": [
    "#Q.3)what do you mean by performance evaluation metrics in terms of regression and classification\n",
    "#Performance evaluation metrics help us measure how well a machine learning model is working — whether it is for regression or classification.\n",
    "# 1. For Regression Problems\n",
    "#Regression = Predicting continuous values (like price, temperature)\n",
    "#2. For Classification Problems\n",
    "#Classification = Predicting categories/labels (like spam/not spam)"
   ]
  },
  {
   "cell_type": "code",
   "execution_count": null,
   "id": "809d28e7-e546-4ddf-a345-46ad721e6566",
   "metadata": {},
   "outputs": [],
   "source": [
    "# Classifaction(accuracy score,confusion matrix)\n",
    "# 1. Accuracy Score\n",
    "# Accuracy is the percentage of correct predictions made by the model.\n",
    "# # \n",
    "# 2. Confusion Matrix\n",
    "# Confusion matrix shows the actual vs predicted values in a 2x2 table for binary classification."
   ]
  }
 ],
 "metadata": {
  "kernelspec": {
   "display_name": "Python 3 (ipykernel)",
   "language": "python",
   "name": "python3"
  },
  "language_info": {
   "codemirror_mode": {
    "name": "ipython",
    "version": 3
   },
   "file_extension": ".py",
   "mimetype": "text/x-python",
   "name": "python",
   "nbconvert_exporter": "python",
   "pygments_lexer": "ipython3",
   "version": "3.13.3"
  }
 },
 "nbformat": 4,
 "nbformat_minor": 5
}
